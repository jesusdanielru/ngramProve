{
 "cells": [
  {
   "cell_type": "code",
   "execution_count": 12,
   "metadata": {
    "collapsed": true,
    "scrolled": false
   },
   "outputs": [],
   "source": [
    "import urllib\n",
    "from bs4 import BeautifulSoup\n",
    "\n",
    "def ngramFrequency(token, corpus = 'spanish', smoothing = 0,end_year = 2008):\n",
    "    '''Esta funcion obtiene una frecuencia de una\n",
    "    palabra en el ngram viewer de Google'''\n",
    "    \n",
    "    #Diccionario con ID de los corpus a utilizar\n",
    "    corpora = {\n",
    "        'english' : 15,\n",
    "        'american english': 17,\n",
    "        'british english': 18,\n",
    "        'english fiction': 16,\n",
    "\n",
    "        'chinese': 23,\n",
    "        'french': 19,\n",
    "        'german': 20,\n",
    "        'hebrew': 24,\n",
    "        'italian': 22,\n",
    "        'russian': 25,\n",
    "        'spanish': 21,\n",
    "    }\n",
    "    \n",
    "    corpus_id = corpora[corpus]\n",
    "    start_year = 2000\n",
    "    \n",
    "    #cargar data para url ngram viewer\n",
    "    token = token.replace(' ', '+')\n",
    "    \n",
    "    #url = 'https://books.google.com/ngrams/interactive_chart?content={}&year_start={}&year_end={}' \\\n",
    "    #         '&corpus={}&smoothing={}'.format(token, start_year, end_year, corpus_id, smoothing)\n",
    "    url = 'https://books.google.com/ngrams/graph?content={}&year_start={}&year_end={}' \\\n",
    "            '&corpus={}&smoothing={}'.format(token, start_year, end_year, corpus_id, smoothing)\n",
    "    #cargar data proporcionada por ngram viewer\n",
    "    \n",
    "    page = urllib.request.urlopen(url).read()\n",
    "    \n",
    "    # Encuentra los lugares en el html donde los datos comienzan y terminan\n",
    "    start = page.find('var data = '.encode('utf-8'))\n",
    "    end = page.find('];\\n'.encode('utf-8'), start)\n",
    "\n",
    "    # Extraer data del diccionario\n",
    "    data = eval(page[start+12:end])\n",
    "    frequencies = data['timeseries']\n",
    "    \n",
    "    return (frequencies[-1])\n",
    "   "
   ]
  },
  {
   "cell_type": "code",
   "execution_count": 13,
   "metadata": {
    "scrolled": true
   },
   "outputs": [
    {
     "name": "stdout",
     "output_type": "stream",
     "text": [
      "0.0004612203629221767\n"
     ]
    }
   ],
   "source": [
    "data = ngramFrequency('hacer_VERB','spanish')\n",
    "print(data)"
   ]
  },
  {
   "cell_type": "code",
   "execution_count": null,
   "metadata": {
    "collapsed": true
   },
   "outputs": [],
   "source": []
  },
  {
   "cell_type": "code",
   "execution_count": null,
   "metadata": {
    "collapsed": true
   },
   "outputs": [],
   "source": []
  },
  {
   "cell_type": "code",
   "execution_count": null,
   "metadata": {
    "collapsed": true
   },
   "outputs": [],
   "source": []
  },
  {
   "cell_type": "code",
   "execution_count": null,
   "metadata": {
    "collapsed": true
   },
   "outputs": [],
   "source": []
  },
  {
   "cell_type": "code",
   "execution_count": null,
   "metadata": {
    "collapsed": true
   },
   "outputs": [],
   "source": []
  },
  {
   "cell_type": "code",
   "execution_count": null,
   "metadata": {
    "collapsed": true
   },
   "outputs": [],
   "source": []
  },
  {
   "cell_type": "code",
   "execution_count": null,
   "metadata": {
    "collapsed": true
   },
   "outputs": [],
   "source": []
  },
  {
   "cell_type": "code",
   "execution_count": null,
   "metadata": {
    "collapsed": true
   },
   "outputs": [],
   "source": []
  },
  {
   "cell_type": "code",
   "execution_count": null,
   "metadata": {
    "collapsed": true
   },
   "outputs": [],
   "source": []
  },
  {
   "cell_type": "code",
   "execution_count": null,
   "metadata": {
    "collapsed": true
   },
   "outputs": [],
   "source": []
  }
 ],
 "metadata": {
  "kernelspec": {
   "display_name": "Python 3",
   "language": "python",
   "name": "python3"
  },
  "language_info": {
   "codemirror_mode": {
    "name": "ipython",
    "version": 3
   },
   "file_extension": ".py",
   "mimetype": "text/x-python",
   "name": "python",
   "nbconvert_exporter": "python",
   "pygments_lexer": "ipython3",
   "version": "3.6.3"
  }
 },
 "nbformat": 4,
 "nbformat_minor": 2
}
